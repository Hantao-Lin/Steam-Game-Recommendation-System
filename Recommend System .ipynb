{
 "cells": [
  {
   "cell_type": "code",
   "execution_count": 1,
   "metadata": {},
   "outputs": [],
   "source": [
    "import pandas as pd \n",
    "from surprise import Dataset, Reader\n",
    "from surprise.model_selection import \\\n",
    "    train_test_split, GridSearchCV, cross_validate\n",
    "from surprise import accuracy\n",
    "import numpy as np\n",
    "from surprise.similarities import cosine\n",
    "from surprise.prediction_algorithms.knns import \\\n",
    "    KNNBasic, KNNWithMeans, KNNWithZScore\n",
    "from surprise import SVD,SlopeOne\n",
    "import sklearn.metrics as metrics\n",
    "import matplotlib.pyplot as plt"
   ]
  },
  {
   "cell_type": "code",
   "execution_count": 2,
   "metadata": {},
   "outputs": [],
   "source": [
    "# Laod data\n",
    "data=pd.read_csv('data.csv')\n",
    "df=data[['user_id','item_id','recommend']]"
   ]
  },
  {
   "cell_type": "code",
   "execution_count": 3,
   "metadata": {},
   "outputs": [],
   "source": [
    "# Convert df into Surprise object\n",
    "reader=Reader(rating_scale=(0,1))\n",
    "data=Dataset.load_from_df(df,reader=reader)"
   ]
  },
  {
   "cell_type": "code",
   "execution_count": 4,
   "metadata": {},
   "outputs": [],
   "source": [
    "# Split data into training and testing set\n",
    "trainset, testset = train_test_split(data, test_size=0.3)"
   ]
  },
  {
   "cell_type": "code",
   "execution_count": 5,
   "metadata": {},
   "outputs": [
    {
     "name": "stdout",
     "output_type": "stream",
     "text": [
      "Number of users:  18853 \n",
      "\n",
      "Number of items:  2573 \n",
      "\n"
     ]
    }
   ],
   "source": [
    "print('Number of users: ', trainset.n_users, '\\n')\n",
    "print('Number of items: ', trainset.n_items, '\\n')"
   ]
  },
  {
   "cell_type": "code",
   "execution_count": 6,
   "metadata": {},
   "outputs": [
    {
     "name": "stdout",
     "output_type": "stream",
     "text": [
      "Computing the msd similarity matrix...\n",
      "Done computing similarity matrix.\n"
     ]
    },
    {
     "data": {
      "text/plain": [
       "<surprise.prediction_algorithms.knns.KNNBasic at 0x23218561548>"
      ]
     },
     "execution_count": 6,
     "metadata": {},
     "output_type": "execute_result"
    }
   ],
   "source": [
    "# Compute RMSE of KNNBasic\n",
    "my_sim_option={'name':'cosine','user_based':False}\n",
    "algo=KNNBasic(sim_option=my_sim_option)\n",
    "algo.fit(trainset)"
   ]
  },
  {
   "cell_type": "code",
   "execution_count": 7,
   "metadata": {},
   "outputs": [
    {
     "name": "stdout",
     "output_type": "stream",
     "text": [
      "RMSE: 0.3171\n"
     ]
    },
    {
     "data": {
      "text/plain": [
       "0.31709680888373964"
      ]
     },
     "execution_count": 7,
     "metadata": {},
     "output_type": "execute_result"
    }
   ],
   "source": [
    "predictions = algo.test(testset)\n",
    "accuracy.rmse(predictions)"
   ]
  },
  {
   "cell_type": "code",
   "execution_count": 25,
   "metadata": {},
   "outputs": [],
   "source": [
    "# Create tunning parameter\n",
    "k=[10,20,30]\n",
    "min_k=[2,3,4]"
   ]
  },
  {
   "cell_type": "code",
   "execution_count": null,
   "metadata": {},
   "outputs": [],
   "source": [
    "# Define Tunning function\n",
    "def tunning(algo_name, default):\n",
    "    default_rmse=default\n",
    "    for i in k:\n",
    "        for j in min_k:\n",
    "            algo=algo_name(sim_option=my_sim_option, k=i, min_k=j)\n",
    "            algo.fit(trainset)\n",
    "            predictions=algo.test(testset)\n",
    "            if accuracy.rmse(predictions) < default_rmse:\n",
    "                default_rmse=accuracy.rmse(predictions)\n",
    "            else:\n",
    "                continue\n",
    "    return str(algo_name)+' Tunned RMSE: '+str(default_rmse)"
   ]
  },
  {
   "cell_type": "code",
   "execution_count": 23,
   "metadata": {},
   "outputs": [
    {
     "name": "stdout",
     "output_type": "stream",
     "text": [
      "Computing the msd similarity matrix...\n",
      "Done computing similarity matrix.\n",
      "RMSE: 0.3096\n",
      "RMSE: 0.3096\n",
      "Computing the msd similarity matrix...\n",
      "Done computing similarity matrix.\n",
      "RMSE: 0.3076\n",
      "RMSE: 0.3076\n",
      "Computing the msd similarity matrix...\n",
      "Done computing similarity matrix.\n",
      "RMSE: 0.3077\n",
      "Computing the msd similarity matrix...\n",
      "Done computing similarity matrix.\n",
      "RMSE: 0.3092\n",
      "Computing the msd similarity matrix...\n",
      "Done computing similarity matrix.\n",
      "RMSE: 0.3073\n",
      "RMSE: 0.3073\n",
      "Computing the msd similarity matrix...\n",
      "Done computing similarity matrix.\n",
      "RMSE: 0.3073\n",
      "Computing the msd similarity matrix...\n",
      "Done computing similarity matrix.\n",
      "RMSE: 0.3091\n",
      "Computing the msd similarity matrix...\n",
      "Done computing similarity matrix.\n",
      "RMSE: 0.3071\n",
      "RMSE: 0.3071\n",
      "Computing the msd similarity matrix...\n",
      "Done computing similarity matrix.\n",
      "RMSE: 0.3072\n"
     ]
    },
    {
     "data": {
      "text/plain": [
       "\"<class 'surprise.prediction_algorithms.knns.KNNBasic'> Tunned RMSE: 0.30712258615151067\""
      ]
     },
     "execution_count": 23,
     "metadata": {},
     "output_type": "execute_result"
    }
   ],
   "source": [
    "# Tune KNNBasic\n",
    "tunning(KNNBasic,0.3171)"
   ]
  },
  {
   "cell_type": "code",
   "execution_count": 17,
   "metadata": {},
   "outputs": [
    {
     "name": "stdout",
     "output_type": "stream",
     "text": [
      "Computing the msd similarity matrix...\n",
      "Done computing similarity matrix.\n",
      "RMSE: 0.3402\n"
     ]
    },
    {
     "data": {
      "text/plain": [
       "0.34023834910325856"
      ]
     },
     "execution_count": 17,
     "metadata": {},
     "output_type": "execute_result"
    }
   ],
   "source": [
    "# KNNWithMeans\n",
    "algo=KNNWithMeans(sim_option=my_sim_option)\n",
    "algo.fit(trainset)\n",
    "predictions = algo.test(testset)\n",
    "accuracy.rmse(predictions)"
   ]
  },
  {
   "cell_type": "code",
   "execution_count": 20,
   "metadata": {},
   "outputs": [
    {
     "name": "stdout",
     "output_type": "stream",
     "text": [
      "Computing the msd similarity matrix...\n",
      "Done computing similarity matrix.\n",
      "RMSE: 0.3386\n",
      "RMSE: 0.3386\n",
      "Computing the msd similarity matrix...\n",
      "Done computing similarity matrix.\n",
      "RMSE: 0.3388\n",
      "Computing the msd similarity matrix...\n",
      "Done computing similarity matrix.\n",
      "RMSE: 0.3394\n",
      "Computing the msd similarity matrix...\n",
      "Done computing similarity matrix.\n",
      "RMSE: 0.3387\n",
      "Computing the msd similarity matrix...\n",
      "Done computing similarity matrix.\n",
      "RMSE: 0.3390\n",
      "Computing the msd similarity matrix...\n",
      "Done computing similarity matrix.\n",
      "RMSE: 0.3395\n",
      "Computing the msd similarity matrix...\n",
      "Done computing similarity matrix.\n",
      "RMSE: 0.3389\n",
      "Computing the msd similarity matrix...\n",
      "Done computing similarity matrix.\n",
      "RMSE: 0.3392\n",
      "Computing the msd similarity matrix...\n",
      "Done computing similarity matrix.\n",
      "RMSE: 0.3397\n"
     ]
    },
    {
     "data": {
      "text/plain": [
       "\"<class 'surprise.prediction_algorithms.knns.KNNWithMeans'> Tunned RMSE: 0.33859996905240886\""
      ]
     },
     "execution_count": 20,
     "metadata": {},
     "output_type": "execute_result"
    }
   ],
   "source": [
    "# Tune KNNWithMeans\n",
    "tunning(KNNWithMeans, 0.3402)"
   ]
  },
  {
   "cell_type": "code",
   "execution_count": 21,
   "metadata": {},
   "outputs": [
    {
     "name": "stdout",
     "output_type": "stream",
     "text": [
      "Computing the msd similarity matrix...\n",
      "Done computing similarity matrix.\n",
      "RMSE: 0.3399\n"
     ]
    },
    {
     "data": {
      "text/plain": [
       "0.3399419104292489"
      ]
     },
     "execution_count": 21,
     "metadata": {},
     "output_type": "execute_result"
    }
   ],
   "source": [
    "# KNNWithZScore\n",
    "algo=KNNWithZScore(sim_option=my_sim_option)\n",
    "algo.fit(trainset)\n",
    "predictions = algo.test(testset)\n",
    "accuracy.rmse(predictions)"
   ]
  },
  {
   "cell_type": "code",
   "execution_count": 22,
   "metadata": {},
   "outputs": [
    {
     "name": "stdout",
     "output_type": "stream",
     "text": [
      "Computing the msd similarity matrix...\n",
      "Done computing similarity matrix.\n",
      "RMSE: 0.3392\n",
      "RMSE: 0.3392\n",
      "Computing the msd similarity matrix...\n",
      "Done computing similarity matrix.\n",
      "RMSE: 0.3394\n",
      "Computing the msd similarity matrix...\n",
      "Done computing similarity matrix.\n",
      "RMSE: 0.3399\n",
      "Computing the msd similarity matrix...\n",
      "Done computing similarity matrix.\n",
      "RMSE: 0.3394\n",
      "Computing the msd similarity matrix...\n",
      "Done computing similarity matrix.\n",
      "RMSE: 0.3396\n",
      "Computing the msd similarity matrix...\n",
      "Done computing similarity matrix.\n",
      "RMSE: 0.3400\n",
      "Computing the msd similarity matrix...\n",
      "Done computing similarity matrix.\n",
      "RMSE: 0.3396\n",
      "Computing the msd similarity matrix...\n",
      "Done computing similarity matrix.\n",
      "RMSE: 0.3398\n",
      "Computing the msd similarity matrix...\n",
      "Done computing similarity matrix.\n",
      "RMSE: 0.3402\n"
     ]
    },
    {
     "data": {
      "text/plain": [
       "\"<class 'surprise.prediction_algorithms.knns.KNNWithZScore'> Tunned RMSE: 0.3392406647363043\""
      ]
     },
     "execution_count": 22,
     "metadata": {},
     "output_type": "execute_result"
    }
   ],
   "source": [
    "# Tune KNNWithZScore\n",
    "tunning(KNNWithZScore, 0.3399)"
   ]
  },
  {
   "cell_type": "code",
   "execution_count": 14,
   "metadata": {},
   "outputs": [
    {
     "data": {
      "text/plain": [
       "<surprise.prediction_algorithms.matrix_factorization.SVD at 0x1e10f4497c8>"
      ]
     },
     "execution_count": 14,
     "metadata": {},
     "output_type": "execute_result"
    }
   ],
   "source": [
    "# Compute RMSE of SVD\n",
    "algo=SVD()\n",
    "algo.fit(trainset)"
   ]
  },
  {
   "cell_type": "code",
   "execution_count": 15,
   "metadata": {
    "scrolled": true
   },
   "outputs": [
    {
     "name": "stdout",
     "output_type": "stream",
     "text": [
      "RMSE: 0.2920\n"
     ]
    },
    {
     "data": {
      "text/plain": [
       "0.292010475735039"
      ]
     },
     "execution_count": 15,
     "metadata": {},
     "output_type": "execute_result"
    }
   ],
   "source": [
    "predictions = algo.test(testset)\n",
    "accuracy.rmse(predictions)"
   ]
  },
  {
   "cell_type": "code",
   "execution_count": 26,
   "metadata": {},
   "outputs": [],
   "source": [
    "# Setup Tunning Parameters\n",
    "n_epochs=[5,10,15]\n",
    "lr_all=[0.001,0.002,0.004]"
   ]
  },
  {
   "cell_type": "code",
   "execution_count": 27,
   "metadata": {},
   "outputs": [
    {
     "name": "stdout",
     "output_type": "stream",
     "text": [
      "RMSE: 0.3085\n",
      "RMSE: 0.3056\n",
      "RMSE: 0.3021\n",
      "RMSE: 0.3049\n",
      "RMSE: 0.3009\n",
      "RMSE: 0.2989\n",
      "RMSE: 0.3034\n",
      "RMSE: 0.2997\n",
      "RMSE: 0.2971\n",
      "SVD Tunned RMSE: 0.292\n"
     ]
    }
   ],
   "source": [
    "# Tune SVD\n",
    "default_rmse=0.2920\n",
    "for i in n_epochs:\n",
    "    for j in lr_all:\n",
    "        algo=SVD(n_epochs=i,lr_all=j)\n",
    "        algo.fit(trainset)\n",
    "        predictions=algo.test(testset)\n",
    "        if accuracy.rmse(predictions) < default_rmse:\n",
    "            default_rmse=accuracy.rmse(predictions)\n",
    "        else:\n",
    "            continue\n",
    "print('SVD Tunned RMSE: '+str(default_rmse))"
   ]
  },
  {
   "cell_type": "code",
   "execution_count": 16,
   "metadata": {},
   "outputs": [
    {
     "name": "stdout",
     "output_type": "stream",
     "text": [
      "RMSE: 0.3394\n"
     ]
    },
    {
     "data": {
      "text/plain": [
       "0.3394398071037379"
      ]
     },
     "execution_count": 16,
     "metadata": {},
     "output_type": "execute_result"
    }
   ],
   "source": [
    "# Compute RMSE of SlopeOne\n",
    "algo=SlopeOne()\n",
    "algo.fit(trainset)\n",
    "predictions = algo.test(testset)\n",
    "accuracy.rmse(predictions)"
   ]
  },
  {
   "cell_type": "code",
   "execution_count": 28,
   "metadata": {},
   "outputs": [],
   "source": [
    "# Put results in a dataframe\n",
    "model_score={\n",
    "    'KNNBasic':0.3071,\n",
    "    'KNNWithMeans':0.3385,\n",
    "    'KNNWithZScore':0.3392,\n",
    "    'SVD':0.2920,\n",
    "    'SlopeOne':0.3394\n",
    "}\n",
    "models_rmse=pd.DataFrame(model_score.items(),columns=['Models','RMSE'])"
   ]
  },
  {
   "cell_type": "code",
   "execution_count": 29,
   "metadata": {},
   "outputs": [
    {
     "data": {
      "text/plain": [
       "Text(0.5, 1.0, 'RMSE of Each Models')"
      ]
     },
     "execution_count": 29,
     "metadata": {},
     "output_type": "execute_result"
    },
    {
     "data": {
      "image/png": "[encoded data removed]",
      "text/plain": [
       "<Figure size 432x288 with 1 Axes>"
      ]
     },
     "metadata": {
      "needs_background": "light"
     },
     "output_type": "display_data"
    }
   ],
   "source": [
    "# Plot the results\n",
    "plt.bar(x='Models',height='RMSE',data=models_rmse)\n",
    "plt.xticks(rotation=30)\n",
    "plt.xlabel('Models')\n",
    "plt.ylabel('RMSE')\n",
    "plt.title('RMSE of Each Models')"
   ]
  }
 ],
 "metadata": {
  "kernelspec": {
   "display_name": "Python 3",
   "language": "python",
   "name": "python3"
  },
  "language_info": {
   "codemirror_mode": {
    "name": "ipython",
    "version": 3
   },
   "file_extension": ".py",
   "mimetype": "text/x-python",
   "name": "python",
   "nbconvert_exporter": "python",
   "pygments_lexer": "ipython3",
   "version": "3.7.4"
  }
 },
 "nbformat": 4,
 "nbformat_minor": 2
}
