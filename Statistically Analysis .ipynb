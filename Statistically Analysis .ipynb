{
 "cells": [
  {
   "cell_type": "code",
   "execution_count": 1,
   "metadata": {},
   "outputs": [],
   "source": [
    "import numpy as np\n",
    "import pandas as pd\n",
    "import matplotlib.pyplot as plt\n",
    "import seaborn as sns\n",
    "from scipy import stats"
   ]
  },
  {
   "cell_type": "code",
   "execution_count": 2,
   "metadata": {},
   "outputs": [
    {
     "name": "stdout",
     "output_type": "stream",
     "text": [
      "<class 'pandas.core.frame.DataFrame'>\n",
      "RangeIndex: 49704 entries, 0 to 49703\n",
      "Data columns (total 16 columns):\n",
      "Unnamed: 0      49704 non-null int64\n",
      "user_id         49704 non-null object\n",
      "item_id         49704 non-null int64\n",
      "recommend       49704 non-null int64\n",
      "review          49680 non-null object\n",
      "publisher       49699 non-null object\n",
      "genres          49704 non-null object\n",
      "app_name        49704 non-null object\n",
      "title           49704 non-null object\n",
      "url             49704 non-null object\n",
      "release_date    49704 non-null object\n",
      "tags            49704 non-null object\n",
      "specs           49704 non-null object\n",
      "price           49704 non-null float64\n",
      "early_access    49704 non-null bool\n",
      "developer       49704 non-null object\n",
      "dtypes: bool(1), float64(1), int64(3), object(11)\n",
      "memory usage: 5.7+ MB\n"
     ]
    }
   ],
   "source": [
    "# Load in data\n",
    "df=pd.read_csv('data.csv')\n",
    "df.info()"
   ]
  },
  {
   "cell_type": "code",
   "execution_count": 3,
   "metadata": {},
   "outputs": [
    {
     "data": {
      "text/html": [
       "<div>\n",
       "<style scoped>\n",
       "    .dataframe tbody tr th:only-of-type {\n",
       "        vertical-align: middle;\n",
       "    }\n",
       "\n",
       "    .dataframe tbody tr th {\n",
       "        vertical-align: top;\n",
       "    }\n",
       "\n",
       "    .dataframe thead th {\n",
       "        text-align: right;\n",
       "    }\n",
       "</style>\n",
       "<table border=\"1\" class=\"dataframe\">\n",
       "  <thead>\n",
       "    <tr style=\"text-align: right;\">\n",
       "      <th></th>\n",
       "      <th>Unnamed: 0</th>\n",
       "      <th>user_id</th>\n",
       "      <th>item_id</th>\n",
       "      <th>recommend</th>\n",
       "      <th>review</th>\n",
       "      <th>publisher</th>\n",
       "      <th>genres</th>\n",
       "      <th>app_name</th>\n",
       "      <th>title</th>\n",
       "      <th>url</th>\n",
       "      <th>release_date</th>\n",
       "      <th>tags</th>\n",
       "      <th>specs</th>\n",
       "      <th>price</th>\n",
       "      <th>early_access</th>\n",
       "      <th>developer</th>\n",
       "    </tr>\n",
       "  </thead>\n",
       "  <tbody>\n",
       "    <tr>\n",
       "      <td>0</td>\n",
       "      <td>0</td>\n",
       "      <td>76561197970982479</td>\n",
       "      <td>1250</td>\n",
       "      <td>1</td>\n",
       "      <td>Simple yet with great replayability. In my opi...</td>\n",
       "      <td>Tripwire Interactive</td>\n",
       "      <td>['Action']</td>\n",
       "      <td>Killing Floor</td>\n",
       "      <td>Killing Floor</td>\n",
       "      <td>http://store.steampowered.com/app/1250/Killing...</td>\n",
       "      <td>2009-05-14</td>\n",
       "      <td>['FPS', 'Zombies', 'Co-op', 'Survival', 'Actio...</td>\n",
       "      <td>['Single-player', 'Multi-player', 'Co-op', 'Cr...</td>\n",
       "      <td>19.99</td>\n",
       "      <td>False</td>\n",
       "      <td>Tripwire Interactive</td>\n",
       "    </tr>\n",
       "    <tr>\n",
       "      <td>1</td>\n",
       "      <td>1</td>\n",
       "      <td>76561197970982479</td>\n",
       "      <td>22200</td>\n",
       "      <td>1</td>\n",
       "      <td>It's unique and worth a playthrough.</td>\n",
       "      <td>ACE Team</td>\n",
       "      <td>['Action', 'Indie']</td>\n",
       "      <td>Zeno Clash</td>\n",
       "      <td>Zeno Clash</td>\n",
       "      <td>http://store.steampowered.com/app/22200/Zeno_C...</td>\n",
       "      <td>2009-04-21</td>\n",
       "      <td>['Action', 'Indie', 'Surreal', \"Beat 'em up\", ...</td>\n",
       "      <td>['Single-player', 'Steam Achievements', 'Steam...</td>\n",
       "      <td>9.99</td>\n",
       "      <td>False</td>\n",
       "      <td>ACE Team</td>\n",
       "    </tr>\n",
       "    <tr>\n",
       "      <td>2</td>\n",
       "      <td>4</td>\n",
       "      <td>js41637</td>\n",
       "      <td>227300</td>\n",
       "      <td>1</td>\n",
       "      <td>For a simple (it's actually not all that simpl...</td>\n",
       "      <td>SCS Software</td>\n",
       "      <td>['Indie', 'Simulation']</td>\n",
       "      <td>Euro Truck Simulator 2</td>\n",
       "      <td>Euro Truck Simulator 2</td>\n",
       "      <td>http://store.steampowered.com/app/227300/Euro_...</td>\n",
       "      <td>2013-01-16</td>\n",
       "      <td>['Simulation', 'Driving', 'Open World', 'Reali...</td>\n",
       "      <td>['Single-player', 'Steam Achievements', 'Steam...</td>\n",
       "      <td>19.99</td>\n",
       "      <td>False</td>\n",
       "      <td>SCS Software</td>\n",
       "    </tr>\n",
       "    <tr>\n",
       "      <td>3</td>\n",
       "      <td>5</td>\n",
       "      <td>js41637</td>\n",
       "      <td>239030</td>\n",
       "      <td>1</td>\n",
       "      <td>Very fun little game to play when your bored o...</td>\n",
       "      <td>3909</td>\n",
       "      <td>['Adventure', 'Indie']</td>\n",
       "      <td>Papers, Please</td>\n",
       "      <td>Papers, Please</td>\n",
       "      <td>http://store.steampowered.com/app/239030/Paper...</td>\n",
       "      <td>2013-08-08</td>\n",
       "      <td>['Indie', 'Political', 'Simulation', 'Point &amp; ...</td>\n",
       "      <td>['Single-player', 'Steam Achievements', 'Steam...</td>\n",
       "      <td>9.99</td>\n",
       "      <td>False</td>\n",
       "      <td>3909</td>\n",
       "    </tr>\n",
       "    <tr>\n",
       "      <td>4</td>\n",
       "      <td>6</td>\n",
       "      <td>evcentric</td>\n",
       "      <td>248820</td>\n",
       "      <td>1</td>\n",
       "      <td>A suitably punishing roguelike platformer.  Wi...</td>\n",
       "      <td>Chucklefish</td>\n",
       "      <td>['Action', 'Indie', 'RPG']</td>\n",
       "      <td>Risk of Rain</td>\n",
       "      <td>Risk of Rain</td>\n",
       "      <td>http://store.steampowered.com/app/248820/Risk_...</td>\n",
       "      <td>2013-11-08</td>\n",
       "      <td>['Rogue-like', 'Indie', 'Platformer', 'Action'...</td>\n",
       "      <td>['Single-player', 'Multi-player', 'Co-op', 'Sh...</td>\n",
       "      <td>9.99</td>\n",
       "      <td>False</td>\n",
       "      <td>Hopoo Games, LLC</td>\n",
       "    </tr>\n",
       "  </tbody>\n",
       "</table>\n",
       "</div>"
      ],
      "text/plain": [
       "   Unnamed: 0            user_id  item_id  recommend  \\\n",
       "0           0  76561197970982479     1250          1   \n",
       "1           1  76561197970982479    22200          1   \n",
       "2           4            js41637   227300          1   \n",
       "3           5            js41637   239030          1   \n",
       "4           6          evcentric   248820          1   \n",
       "\n",
       "                                              review             publisher  \\\n",
       "0  Simple yet with great replayability. In my opi...  Tripwire Interactive   \n",
       "1               It's unique and worth a playthrough.              ACE Team   \n",
       "2  For a simple (it's actually not all that simpl...          SCS Software   \n",
       "3  Very fun little game to play when your bored o...                  3909   \n",
       "4  A suitably punishing roguelike platformer.  Wi...           Chucklefish   \n",
       "\n",
       "                       genres                app_name                   title  \\\n",
       "0                  ['Action']           Killing Floor           Killing Floor   \n",
       "1         ['Action', 'Indie']              Zeno Clash              Zeno Clash   \n",
       "2     ['Indie', 'Simulation']  Euro Truck Simulator 2  Euro Truck Simulator 2   \n",
       "3      ['Adventure', 'Indie']          Papers, Please          Papers, Please   \n",
       "4  ['Action', 'Indie', 'RPG']            Risk of Rain            Risk of Rain   \n",
       "\n",
       "                                                 url release_date  \\\n",
       "0  http://store.steampowered.com/app/1250/Killing...   2009-05-14   \n",
       "1  http://store.steampowered.com/app/22200/Zeno_C...   2009-04-21   \n",
       "2  http://store.steampowered.com/app/227300/Euro_...   2013-01-16   \n",
       "3  http://store.steampowered.com/app/239030/Paper...   2013-08-08   \n",
       "4  http://store.steampowered.com/app/248820/Risk_...   2013-11-08   \n",
       "\n",
       "                                                tags  \\\n",
       "0  ['FPS', 'Zombies', 'Co-op', 'Survival', 'Actio...   \n",
       "1  ['Action', 'Indie', 'Surreal', \"Beat 'em up\", ...   \n",
       "2  ['Simulation', 'Driving', 'Open World', 'Reali...   \n",
       "3  ['Indie', 'Political', 'Simulation', 'Point & ...   \n",
       "4  ['Rogue-like', 'Indie', 'Platformer', 'Action'...   \n",
       "\n",
       "                                               specs  price  early_access  \\\n",
       "0  ['Single-player', 'Multi-player', 'Co-op', 'Cr...  19.99         False   \n",
       "1  ['Single-player', 'Steam Achievements', 'Steam...   9.99         False   \n",
       "2  ['Single-player', 'Steam Achievements', 'Steam...  19.99         False   \n",
       "3  ['Single-player', 'Steam Achievements', 'Steam...   9.99         False   \n",
       "4  ['Single-player', 'Multi-player', 'Co-op', 'Sh...   9.99         False   \n",
       "\n",
       "              developer  \n",
       "0  Tripwire Interactive  \n",
       "1              ACE Team  \n",
       "2          SCS Software  \n",
       "3                  3909  \n",
       "4      Hopoo Games, LLC  "
      ]
     },
     "execution_count": 3,
     "metadata": {},
     "output_type": "execute_result"
    }
   ],
   "source": [
    "df.head()"
   ]
  },
  {
   "cell_type": "markdown",
   "metadata": {},
   "source": [
    "### Q1: Does [Action] games cost more than [Action, Indie] games?\n",
    "**Null Hypothesis**: average price of [Action] games $\\geq$ average price of [Action, Indie] games.\\\n",
    "**Alternative Hypothesis**: average price of [Action] games < average price of [Action, Indie]  games.\\\n",
    "**Alpha**=5%"
   ]
  },
  {
   "cell_type": "code",
   "execution_count": 8,
   "metadata": {},
   "outputs": [],
   "source": [
    "# Filter rows\n",
    "act_ind=df[df['genres']==\"['Action', 'Indie']\"]\n",
    "act=df[df['genres']==\"['Action']\"]"
   ]
  },
  {
   "cell_type": "code",
   "execution_count": 9,
   "metadata": {},
   "outputs": [
    {
     "name": "stdout",
     "output_type": "stream",
     "text": [
      "95% Confidence Interval: [5.79101534 6.50657473]\n"
     ]
    }
   ],
   "source": [
    "# Use boostrap to find the distributions and calculate CI\n",
    "diff_list=[]\n",
    "act_ind_meanlist=[]\n",
    "act_mean_list=[]\n",
    "for i in range(10000):\n",
    "    act_ind_samp=np.random.choice(act_ind['price'],len(act_ind['price']))\n",
    "    act_samp=np.random.choice(act['price'],len(act['price']))\n",
    "    act_ind_mean=np.mean(act_ind_samp)\n",
    "    act_ind_meanlist.append(act_ind_mean)\n",
    "    act_mean=np.mean(act_samp)\n",
    "    act_mean_list.append(act_mean)\n",
    "    diff=act_mean-act_ind_mean\n",
    "    diff_list.append(diff)\n",
    "percentile=np.percentile(diff_list,[5,95])\n",
    "print('95% Confidence Interval: '+str(percentile))"
   ]
  },
  {
   "cell_type": "code",
   "execution_count": 11,
   "metadata": {},
   "outputs": [
    {
     "data": {
      "text/plain": [
       "Text(0.5, 1.0, 'Average Price of Different Genres Distribution')"
      ]
     },
     "execution_count": 11,
     "metadata": {},
     "output_type": "execute_result"
    },
    {
     "data": {
      "image/png": "[encoded data removed]",
      "text/plain": [
       "<Figure size 432x288 with 1 Axes>"
      ]
     },
     "metadata": {
      "needs_background": "light"
     },
     "output_type": "display_data"
    }
   ],
   "source": [
    "# Plot the distributions\n",
    "plt.hist(act_ind_meanlist,label=\"['Action','Indie']\")\n",
    "plt.hist(act_mean_list,label=\"['Action']\")\n",
    "plt.legend(loc='upper right',bbox_to_anchor=(1.4, 1))\n",
    "plt.title('Average Price of Different Genres Distribution')"
   ]
  },
  {
   "cell_type": "code",
   "execution_count": 57,
   "metadata": {},
   "outputs": [
    {
     "data": {
      "text/plain": [
       "Ttest_indResult(statistic=0.7592294153523514, pvalue=0.469492828937194)"
      ]
     },
     "execution_count": 57,
     "metadata": {},
     "output_type": "execute_result"
    }
   ],
   "source": [
    "# Find p-value \n",
    "stats.ttest_ind(np.mean(act_ind),np.mean(act))"
   ]
  },
  {
   "cell_type": "code",
   "execution_count": 8,
   "metadata": {},
   "outputs": [
    {
     "name": "stdout",
     "output_type": "stream",
     "text": [
      "Cannot Reject Null Hypothesis\n"
     ]
    }
   ],
   "source": [
    "# Determine to reject or accept H0\n",
    "if (0.469492828937194/2) < 0.05:\n",
    "    print('Reject Null Hypothesis')\n",
    "else:\n",
    "    print('Cannot Reject Null Hypothesis')"
   ]
  },
  {
   "cell_type": "markdown",
   "metadata": {},
   "source": [
    "**Conlusion**: It is clear from the distribution graph that ['Action'] games always have higher price than ['Action','Indie'] games. The p-value further prove that we cannot reject null hypothesis."
   ]
  },
  {
   "cell_type": "markdown",
   "metadata": {},
   "source": [
    "### Q2: Does multiplayer game cost less than single player game?\n",
    "**Null Hypothesis**: Average price of single player games $\\geq$ average price of multiplayer games.\\\n",
    "**Alternativve Hypothesis**: Average price of single player games < average price of multiplayer games.\\\n",
    "**Alpha**=5%"
   ]
  },
  {
   "cell_type": "code",
   "execution_count": 4,
   "metadata": {},
   "outputs": [],
   "source": [
    "# Filter rows\n",
    "online_multi=df[df['specs'].str.contains(\"'Online Multi-player'\")]\n",
    "multi=df[df['specs'].str.contains(\"'Multi-player'\")]\n",
    "online_coop=df[df['specs'].str.contains(\"'Online Co-op'\")]\n",
    "cross_plat=df[df['specs'].str.contains(\"'Cross-Platform Multiplayer'\")]\n",
    "coop=df[df['specs'].str.contains(\"'Co-op'\")]\n",
    "multi=pd.concat([online_multi,multi,coop,online_coop,cross_plat])\n",
    "counter=df.index.isin(multi.index)\n",
    "single=df[~counter]"
   ]
  },
  {
   "cell_type": "code",
   "execution_count": 5,
   "metadata": {},
   "outputs": [
    {
     "name": "stdout",
     "output_type": "stream",
     "text": [
      "95% Confidence Interval: [-2.93274549 -2.60298355]\n"
     ]
    }
   ],
   "source": [
    "# Use boostrap to find the distributions and calculate CI\n",
    "diff_list=[]\n",
    "multi_meanlist=[]\n",
    "single_mean_list=[]\n",
    "for i in range(10000):\n",
    "    multi_samp=np.random.choice(multi['price'],len(multi['price']))\n",
    "    single_samp=np.random.choice(single['price'],len(single['price']))\n",
    "    multi_mean=np.mean(multi_samp)\n",
    "    multi_meanlist.append(multi_mean)\n",
    "    single_mean=np.mean(single_samp)\n",
    "    single_mean_list.append(single_mean)\n",
    "    diff=single_mean-multi_mean\n",
    "    diff_list.append(diff)\n",
    "percentile=np.percentile(diff_list,[5,95])\n",
    "print('95% Confidence Interval: '+str(percentile))"
   ]
  },
  {
   "cell_type": "code",
   "execution_count": 12,
   "metadata": {},
   "outputs": [
    {
     "data": {
      "text/plain": [
       "Text(0.5, 1.0, 'Average Price of Single VS Multi Player Games Distribution')"
      ]
     },
     "execution_count": 12,
     "metadata": {},
     "output_type": "execute_result"
    },
    {
     "data": {
      "image/png": "[encoded data removed]",
      "text/plain": [
       "<Figure size 432x288 with 1 Axes>"
      ]
     },
     "metadata": {
      "needs_background": "light"
     },
     "output_type": "display_data"
    }
   ],
   "source": [
    "# Plot the distributions\n",
    "plt.hist(multi_meanlist,label=\"Multi-Player Games\")\n",
    "plt.hist(single_mean_list,label=\"Single Player Games\")\n",
    "plt.legend(loc='upper right',bbox_to_anchor=(1.4, 1))\n",
    "plt.title('Average Price of Single VS Multi Player Games Distribution')"
   ]
  },
  {
   "cell_type": "markdown",
   "metadata": {},
   "source": [
    "**Conclusion**: From the distribution graph, it is clear that Single players games do not cost more than multi player games. In fact, multiplayer games actually cost more than single player games. "
   ]
  },
  {
   "cell_type": "markdown",
   "metadata": {},
   "source": [
    "### Q3: Among two most popular games (Counter Strike and Team Fortress 2), which has better reputation in term of recommendation?\n",
    "**Null Hypothesis**: percentage of recommended from Counter Strike $\\geq$ percentage of recommended from Team Fortress 2\\\n",
    "**Alternative Hypothesis**: percentage of recommended from Counter Strike < percentage of recommended from Team Fortress 2\\\n",
    "**Alpha**=5%"
   ]
  },
  {
   "cell_type": "code",
   "execution_count": 4,
   "metadata": {},
   "outputs": [],
   "source": [
    "# Filter rows\n",
    "cs=df[df['title'].str.contains(\"Counter-Strike: Global Offensive\")]\n",
    "tf=df[df['title'].str.contains(\"Team Fortress 2\")]"
   ]
  },
  {
   "cell_type": "code",
   "execution_count": 5,
   "metadata": {},
   "outputs": [
    {
     "name": "stdout",
     "output_type": "stream",
     "text": [
      "95% Confidence Interval: [-4.98   -3.2795]\n"
     ]
    }
   ],
   "source": [
    "# Use boostrap to find the distributions and calculate CI\n",
    "diff_list=[]\n",
    "cs_percent_list=[]\n",
    "tf_percent_list=[]\n",
    "for i in range(10000):\n",
    "    cs_samp=np.random.choice(cs['recommend'],len(cs['recommend']))\n",
    "    tf_samp=np.random.choice(tf['recommend'],len(tf['recommend']))\n",
    "    cs_percent=round((cs_samp.sum())/len(cs_samp)*100,2)\n",
    "    cs_percent_list.append(cs_percent)\n",
    "    tf_percent=round((tf_samp.sum())/len(tf_samp)*100,2)\n",
    "    tf_percent_list.append(tf_percent)\n",
    "    diff=cs_percent-tf_percent\n",
    "    diff_list.append(diff)\n",
    "percentile=np.percentile(diff_list,[5,95])\n",
    "print('95% Confidence Interval: '+str(percentile))"
   ]
  },
  {
   "cell_type": "code",
   "execution_count": 7,
   "metadata": {},
   "outputs": [
    {
     "data": {
      "text/plain": [
       "Text(0.5, 1.0, 'Percentage of Recommendation Distribution')"
      ]
     },
     "execution_count": 7,
     "metadata": {},
     "output_type": "execute_result"
    },
    {
     "data": {
      "image/png": "[encoded data removed]",
      "text/plain": [
       "<Figure size 432x288 with 1 Axes>"
      ]
     },
     "metadata": {
      "needs_background": "light"
     },
     "output_type": "display_data"
    }
   ],
   "source": [
    "# Plot the distributions\n",
    "plt.hist(cs_percent_list,alpha=0.5,label=\"Counter Strike: Global Offensive\")\n",
    "plt.hist(tf_percent_list,alpha=0.5,label=\"Team Fortress 2\")\n",
    "plt.legend(loc='upper right',bbox_to_anchor=(1.5, 1))\n",
    "plt.title('Percentage of Recommendation Distribution')"
   ]
  },
  {
   "cell_type": "markdown",
   "metadata": {},
   "source": [
    "**Conclusion**: From the distribution graph and confidence interval, we see that CS:GO didn't have a greater recommendation rate than Team Fortress 2. In fact, Team Fortress 2 has greater recommendation rate than CS:GO"
   ]
  }
 ],
 "metadata": {
  "kernelspec": {
   "display_name": "Python 3",
   "language": "python",
   "name": "python3"
  },
  "language_info": {
   "codemirror_mode": {
    "name": "ipython",
    "version": 3
   },
   "file_extension": ".py",
   "mimetype": "text/x-python",
   "name": "python",
   "nbconvert_exporter": "python",
   "pygments_lexer": "ipython3",
   "version": "3.7.4"
  }
 },
 "nbformat": 4,
 "nbformat_minor": 2
}
